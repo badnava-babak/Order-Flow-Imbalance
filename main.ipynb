{
 "cells": [
  {
   "cell_type": "code",
   "execution_count": 27,
   "id": "initial_id",
   "metadata": {
    "collapsed": true,
    "ExecuteTime": {
     "end_time": "2025-05-01T02:55:14.350264160Z",
     "start_time": "2025-05-01T02:55:12.361033889Z"
    }
   },
   "outputs": [],
   "source": [
    "%reset\n",
    "import pandas as pd\n",
    "import numpy as np\n",
    "\n"
   ]
  },
  {
   "cell_type": "code",
   "execution_count": 28,
   "outputs": [],
   "source": [
    "df = pd.read_csv('first_25000_rows.csv')"
   ],
   "metadata": {
    "collapsed": false,
    "ExecuteTime": {
     "end_time": "2025-05-01T02:55:15.800865753Z",
     "start_time": "2025-05-01T02:55:15.779421769Z"
    }
   },
   "id": "8161101d01329493"
  },
  {
   "cell_type": "code",
   "execution_count": 29,
   "outputs": [
    {
     "data": {
      "text/plain": "                          ts_recv                        ts_event  rtype  \\\n0  2024-10-21T11:54:29.221230963Z  2024-10-21T11:54:29.221064336Z     10   \n1  2024-10-21T11:54:29.223936626Z  2024-10-21T11:54:29.223769812Z     10   \n2  2024-10-21T11:54:29.225196809Z  2024-10-21T11:54:29.225030400Z     10   \n3  2024-10-21T11:54:29.712600612Z  2024-10-21T11:54:29.712434212Z     10   \n4  2024-10-21T11:54:29.764839221Z  2024-10-21T11:54:29.764673165Z     10   \n\n   publisher_id  instrument_id action side  depth   price  size  ...  \\\n0             2             38      C    B      1  233.62     2  ...   \n1             2             38      A    B      0  233.67     2  ...   \n2             2             38      A    B      0  233.67     3  ...   \n3             2             38      A    B      2  233.52   200  ...   \n4             2             38      C    B      2  233.52   200  ...   \n\n   ask_sz_08  bid_ct_08  ask_ct_08  bid_px_09  ask_px_09  bid_sz_09  \\\n0        155          1          7     233.25     234.13         55   \n1        155          1          7     233.25     234.13         55   \n2        155          1          7     233.25     234.13         55   \n3        155          1          7     233.25     234.13         55   \n4        155          1          7     233.25     234.13         55   \n\n   ask_sz_09  bid_ct_09  ask_ct_09  symbol  \n0        400          2          1    AAPL  \n1        400          2          1    AAPL  \n2        400          2          1    AAPL  \n3        400          2          1    AAPL  \n4        400          2          1    AAPL  \n\n[5 rows x 74 columns]",
      "text/html": "<div>\n<style scoped>\n    .dataframe tbody tr th:only-of-type {\n        vertical-align: middle;\n    }\n\n    .dataframe tbody tr th {\n        vertical-align: top;\n    }\n\n    .dataframe thead th {\n        text-align: right;\n    }\n</style>\n<table border=\"1\" class=\"dataframe\">\n  <thead>\n    <tr style=\"text-align: right;\">\n      <th></th>\n      <th>ts_recv</th>\n      <th>ts_event</th>\n      <th>rtype</th>\n      <th>publisher_id</th>\n      <th>instrument_id</th>\n      <th>action</th>\n      <th>side</th>\n      <th>depth</th>\n      <th>price</th>\n      <th>size</th>\n      <th>...</th>\n      <th>ask_sz_08</th>\n      <th>bid_ct_08</th>\n      <th>ask_ct_08</th>\n      <th>bid_px_09</th>\n      <th>ask_px_09</th>\n      <th>bid_sz_09</th>\n      <th>ask_sz_09</th>\n      <th>bid_ct_09</th>\n      <th>ask_ct_09</th>\n      <th>symbol</th>\n    </tr>\n  </thead>\n  <tbody>\n    <tr>\n      <th>0</th>\n      <td>2024-10-21T11:54:29.221230963Z</td>\n      <td>2024-10-21T11:54:29.221064336Z</td>\n      <td>10</td>\n      <td>2</td>\n      <td>38</td>\n      <td>C</td>\n      <td>B</td>\n      <td>1</td>\n      <td>233.62</td>\n      <td>2</td>\n      <td>...</td>\n      <td>155</td>\n      <td>1</td>\n      <td>7</td>\n      <td>233.25</td>\n      <td>234.13</td>\n      <td>55</td>\n      <td>400</td>\n      <td>2</td>\n      <td>1</td>\n      <td>AAPL</td>\n    </tr>\n    <tr>\n      <th>1</th>\n      <td>2024-10-21T11:54:29.223936626Z</td>\n      <td>2024-10-21T11:54:29.223769812Z</td>\n      <td>10</td>\n      <td>2</td>\n      <td>38</td>\n      <td>A</td>\n      <td>B</td>\n      <td>0</td>\n      <td>233.67</td>\n      <td>2</td>\n      <td>...</td>\n      <td>155</td>\n      <td>1</td>\n      <td>7</td>\n      <td>233.25</td>\n      <td>234.13</td>\n      <td>55</td>\n      <td>400</td>\n      <td>2</td>\n      <td>1</td>\n      <td>AAPL</td>\n    </tr>\n    <tr>\n      <th>2</th>\n      <td>2024-10-21T11:54:29.225196809Z</td>\n      <td>2024-10-21T11:54:29.225030400Z</td>\n      <td>10</td>\n      <td>2</td>\n      <td>38</td>\n      <td>A</td>\n      <td>B</td>\n      <td>0</td>\n      <td>233.67</td>\n      <td>3</td>\n      <td>...</td>\n      <td>155</td>\n      <td>1</td>\n      <td>7</td>\n      <td>233.25</td>\n      <td>234.13</td>\n      <td>55</td>\n      <td>400</td>\n      <td>2</td>\n      <td>1</td>\n      <td>AAPL</td>\n    </tr>\n    <tr>\n      <th>3</th>\n      <td>2024-10-21T11:54:29.712600612Z</td>\n      <td>2024-10-21T11:54:29.712434212Z</td>\n      <td>10</td>\n      <td>2</td>\n      <td>38</td>\n      <td>A</td>\n      <td>B</td>\n      <td>2</td>\n      <td>233.52</td>\n      <td>200</td>\n      <td>...</td>\n      <td>155</td>\n      <td>1</td>\n      <td>7</td>\n      <td>233.25</td>\n      <td>234.13</td>\n      <td>55</td>\n      <td>400</td>\n      <td>2</td>\n      <td>1</td>\n      <td>AAPL</td>\n    </tr>\n    <tr>\n      <th>4</th>\n      <td>2024-10-21T11:54:29.764839221Z</td>\n      <td>2024-10-21T11:54:29.764673165Z</td>\n      <td>10</td>\n      <td>2</td>\n      <td>38</td>\n      <td>C</td>\n      <td>B</td>\n      <td>2</td>\n      <td>233.52</td>\n      <td>200</td>\n      <td>...</td>\n      <td>155</td>\n      <td>1</td>\n      <td>7</td>\n      <td>233.25</td>\n      <td>234.13</td>\n      <td>55</td>\n      <td>400</td>\n      <td>2</td>\n      <td>1</td>\n      <td>AAPL</td>\n    </tr>\n  </tbody>\n</table>\n<p>5 rows × 74 columns</p>\n</div>"
     },
     "execution_count": 29,
     "metadata": {},
     "output_type": "execute_result"
    }
   ],
   "source": [
    "df.head()"
   ],
   "metadata": {
    "collapsed": false,
    "ExecuteTime": {
     "end_time": "2025-05-01T02:55:17.281086446Z",
     "start_time": "2025-05-01T02:55:17.278954773Z"
    }
   },
   "id": "efbb8461dacfbc69"
  },
  {
   "cell_type": "code",
   "execution_count": 30,
   "outputs": [
    {
     "data": {
      "text/plain": "array(['AAPL'], dtype=object)"
     },
     "execution_count": 30,
     "metadata": {},
     "output_type": "execute_result"
    }
   ],
   "source": [
    "df['symbol'].unique()"
   ],
   "metadata": {
    "collapsed": false,
    "ExecuteTime": {
     "end_time": "2025-05-01T02:55:19.152229218Z",
     "start_time": "2025-05-01T02:55:19.146454152Z"
    }
   },
   "id": "1d6a6274406a760c"
  },
  {
   "cell_type": "code",
   "execution_count": 31,
   "outputs": [
    {
     "data": {
      "text/plain": "                                                            ts_recv  rtype  \\\nts_event                                                                     \n2024-10-21 11:54:29.221064336+00:00  2024-10-21T11:54:29.221230963Z     10   \n2024-10-21 11:54:29.223769812+00:00  2024-10-21T11:54:29.223936626Z     10   \n2024-10-21 11:54:29.225030400+00:00  2024-10-21T11:54:29.225196809Z     10   \n2024-10-21 11:54:29.712434212+00:00  2024-10-21T11:54:29.712600612Z     10   \n2024-10-21 11:54:29.764673165+00:00  2024-10-21T11:54:29.764839221Z     10   \n...                                                             ...    ...   \n2024-10-21 13:04:16.583527688+00:00  2024-10-21T13:04:16.583694069Z     10   \n2024-10-21 13:04:17.976461017+00:00  2024-10-21T13:04:17.976627074Z     10   \n2024-10-21 13:04:20.085638629+00:00  2024-10-21T13:04:20.085804687Z     10   \n2024-10-21 13:04:20.085651109+00:00  2024-10-21T13:04:20.085817362Z     10   \n2024-10-21 13:04:20.130842270+00:00  2024-10-21T13:04:20.131008559Z     10   \n\n                                     publisher_id  instrument_id action side  \\\nts_event                                                                       \n2024-10-21 11:54:29.221064336+00:00             2             38      C    B   \n2024-10-21 11:54:29.223769812+00:00             2             38      A    B   \n2024-10-21 11:54:29.225030400+00:00             2             38      A    B   \n2024-10-21 11:54:29.712434212+00:00             2             38      A    B   \n2024-10-21 11:54:29.764673165+00:00             2             38      C    B   \n...                                           ...            ...    ...  ...   \n2024-10-21 13:04:16.583527688+00:00             2             38      A    B   \n2024-10-21 13:04:17.976461017+00:00             2             38      A    A   \n2024-10-21 13:04:20.085638629+00:00             2             38      C    B   \n2024-10-21 13:04:20.085651109+00:00             2             38      A    B   \n2024-10-21 13:04:20.130842270+00:00             2             38      A    A   \n\n                                     depth   price  size  flags  ...  \\\nts_event                                                         ...   \n2024-10-21 11:54:29.221064336+00:00      1  233.62     2    130  ...   \n2024-10-21 11:54:29.223769812+00:00      0  233.67     2    130  ...   \n2024-10-21 11:54:29.225030400+00:00      0  233.67     3    130  ...   \n2024-10-21 11:54:29.712434212+00:00      2  233.52   200    130  ...   \n2024-10-21 11:54:29.764673165+00:00      2  233.52   200    130  ...   \n...                                    ...     ...   ...    ...  ...   \n2024-10-21 13:04:16.583527688+00:00      2  233.46   200    130  ...   \n2024-10-21 13:04:17.976461017+00:00      1  233.69   200    130  ...   \n2024-10-21 13:04:20.085638629+00:00      2  233.46   200    130  ...   \n2024-10-21 13:04:20.085651109+00:00      3  233.44   200    130  ...   \n2024-10-21 13:04:20.130842270+00:00      0  233.56    14    130  ...   \n\n                                     ask_sz_08  bid_ct_08  ask_ct_08  \\\nts_event                                                               \n2024-10-21 11:54:29.221064336+00:00        155          1          7   \n2024-10-21 11:54:29.223769812+00:00        155          1          7   \n2024-10-21 11:54:29.225030400+00:00        155          1          7   \n2024-10-21 11:54:29.712434212+00:00        155          1          7   \n2024-10-21 11:54:29.764673165+00:00        155          1          7   \n...                                        ...        ...        ...   \n2024-10-21 13:04:16.583527688+00:00        105          1          2   \n2024-10-21 13:04:17.976461017+00:00        105          1          2   \n2024-10-21 13:04:20.085638629+00:00        105          2          2   \n2024-10-21 13:04:20.085651109+00:00        105          1          2   \n2024-10-21 13:04:20.130842270+00:00        500          1          1   \n\n                                     bid_px_09  ask_px_09  bid_sz_09  \\\nts_event                                                               \n2024-10-21 11:54:29.221064336+00:00     233.25     234.13         55   \n2024-10-21 11:54:29.223769812+00:00     233.25     234.13         55   \n2024-10-21 11:54:29.225030400+00:00     233.25     234.13         55   \n2024-10-21 11:54:29.712434212+00:00     233.25     234.13         55   \n2024-10-21 11:54:29.764673165+00:00     233.25     234.13         55   \n...                                        ...        ...        ...   \n2024-10-21 13:04:16.583527688+00:00     233.25     234.50         55   \n2024-10-21 13:04:17.976461017+00:00     233.25     234.50         55   \n2024-10-21 13:04:20.085638629+00:00     233.24     234.50          1   \n2024-10-21 13:04:20.085651109+00:00     233.25     234.50         55   \n2024-10-21 13:04:20.130842270+00:00     233.25     234.43         55   \n\n                                     ask_sz_09  bid_ct_09  ask_ct_09  symbol  \nts_event                                                                      \n2024-10-21 11:54:29.221064336+00:00        400          2          1    AAPL  \n2024-10-21 11:54:29.223769812+00:00        400          2          1    AAPL  \n2024-10-21 11:54:29.225030400+00:00        400          2          1    AAPL  \n2024-10-21 11:54:29.712434212+00:00        400          2          1    AAPL  \n2024-10-21 11:54:29.764673165+00:00        400          2          1    AAPL  \n...                                        ...        ...        ...     ...  \n2024-10-21 13:04:16.583527688+00:00         63          2          4    AAPL  \n2024-10-21 13:04:17.976461017+00:00         63          2          4    AAPL  \n2024-10-21 13:04:20.085638629+00:00         63          1          4    AAPL  \n2024-10-21 13:04:20.085651109+00:00         63          2          4    AAPL  \n2024-10-21 13:04:20.130842270+00:00        105          2          2    AAPL  \n\n[5000 rows x 73 columns]",
      "text/html": "<div>\n<style scoped>\n    .dataframe tbody tr th:only-of-type {\n        vertical-align: middle;\n    }\n\n    .dataframe tbody tr th {\n        vertical-align: top;\n    }\n\n    .dataframe thead th {\n        text-align: right;\n    }\n</style>\n<table border=\"1\" class=\"dataframe\">\n  <thead>\n    <tr style=\"text-align: right;\">\n      <th></th>\n      <th>ts_recv</th>\n      <th>rtype</th>\n      <th>publisher_id</th>\n      <th>instrument_id</th>\n      <th>action</th>\n      <th>side</th>\n      <th>depth</th>\n      <th>price</th>\n      <th>size</th>\n      <th>flags</th>\n      <th>...</th>\n      <th>ask_sz_08</th>\n      <th>bid_ct_08</th>\n      <th>ask_ct_08</th>\n      <th>bid_px_09</th>\n      <th>ask_px_09</th>\n      <th>bid_sz_09</th>\n      <th>ask_sz_09</th>\n      <th>bid_ct_09</th>\n      <th>ask_ct_09</th>\n      <th>symbol</th>\n    </tr>\n    <tr>\n      <th>ts_event</th>\n      <th></th>\n      <th></th>\n      <th></th>\n      <th></th>\n      <th></th>\n      <th></th>\n      <th></th>\n      <th></th>\n      <th></th>\n      <th></th>\n      <th></th>\n      <th></th>\n      <th></th>\n      <th></th>\n      <th></th>\n      <th></th>\n      <th></th>\n      <th></th>\n      <th></th>\n      <th></th>\n      <th></th>\n    </tr>\n  </thead>\n  <tbody>\n    <tr>\n      <th>2024-10-21 11:54:29.221064336+00:00</th>\n      <td>2024-10-21T11:54:29.221230963Z</td>\n      <td>10</td>\n      <td>2</td>\n      <td>38</td>\n      <td>C</td>\n      <td>B</td>\n      <td>1</td>\n      <td>233.62</td>\n      <td>2</td>\n      <td>130</td>\n      <td>...</td>\n      <td>155</td>\n      <td>1</td>\n      <td>7</td>\n      <td>233.25</td>\n      <td>234.13</td>\n      <td>55</td>\n      <td>400</td>\n      <td>2</td>\n      <td>1</td>\n      <td>AAPL</td>\n    </tr>\n    <tr>\n      <th>2024-10-21 11:54:29.223769812+00:00</th>\n      <td>2024-10-21T11:54:29.223936626Z</td>\n      <td>10</td>\n      <td>2</td>\n      <td>38</td>\n      <td>A</td>\n      <td>B</td>\n      <td>0</td>\n      <td>233.67</td>\n      <td>2</td>\n      <td>130</td>\n      <td>...</td>\n      <td>155</td>\n      <td>1</td>\n      <td>7</td>\n      <td>233.25</td>\n      <td>234.13</td>\n      <td>55</td>\n      <td>400</td>\n      <td>2</td>\n      <td>1</td>\n      <td>AAPL</td>\n    </tr>\n    <tr>\n      <th>2024-10-21 11:54:29.225030400+00:00</th>\n      <td>2024-10-21T11:54:29.225196809Z</td>\n      <td>10</td>\n      <td>2</td>\n      <td>38</td>\n      <td>A</td>\n      <td>B</td>\n      <td>0</td>\n      <td>233.67</td>\n      <td>3</td>\n      <td>130</td>\n      <td>...</td>\n      <td>155</td>\n      <td>1</td>\n      <td>7</td>\n      <td>233.25</td>\n      <td>234.13</td>\n      <td>55</td>\n      <td>400</td>\n      <td>2</td>\n      <td>1</td>\n      <td>AAPL</td>\n    </tr>\n    <tr>\n      <th>2024-10-21 11:54:29.712434212+00:00</th>\n      <td>2024-10-21T11:54:29.712600612Z</td>\n      <td>10</td>\n      <td>2</td>\n      <td>38</td>\n      <td>A</td>\n      <td>B</td>\n      <td>2</td>\n      <td>233.52</td>\n      <td>200</td>\n      <td>130</td>\n      <td>...</td>\n      <td>155</td>\n      <td>1</td>\n      <td>7</td>\n      <td>233.25</td>\n      <td>234.13</td>\n      <td>55</td>\n      <td>400</td>\n      <td>2</td>\n      <td>1</td>\n      <td>AAPL</td>\n    </tr>\n    <tr>\n      <th>2024-10-21 11:54:29.764673165+00:00</th>\n      <td>2024-10-21T11:54:29.764839221Z</td>\n      <td>10</td>\n      <td>2</td>\n      <td>38</td>\n      <td>C</td>\n      <td>B</td>\n      <td>2</td>\n      <td>233.52</td>\n      <td>200</td>\n      <td>130</td>\n      <td>...</td>\n      <td>155</td>\n      <td>1</td>\n      <td>7</td>\n      <td>233.25</td>\n      <td>234.13</td>\n      <td>55</td>\n      <td>400</td>\n      <td>2</td>\n      <td>1</td>\n      <td>AAPL</td>\n    </tr>\n    <tr>\n      <th>...</th>\n      <td>...</td>\n      <td>...</td>\n      <td>...</td>\n      <td>...</td>\n      <td>...</td>\n      <td>...</td>\n      <td>...</td>\n      <td>...</td>\n      <td>...</td>\n      <td>...</td>\n      <td>...</td>\n      <td>...</td>\n      <td>...</td>\n      <td>...</td>\n      <td>...</td>\n      <td>...</td>\n      <td>...</td>\n      <td>...</td>\n      <td>...</td>\n      <td>...</td>\n      <td>...</td>\n    </tr>\n    <tr>\n      <th>2024-10-21 13:04:16.583527688+00:00</th>\n      <td>2024-10-21T13:04:16.583694069Z</td>\n      <td>10</td>\n      <td>2</td>\n      <td>38</td>\n      <td>A</td>\n      <td>B</td>\n      <td>2</td>\n      <td>233.46</td>\n      <td>200</td>\n      <td>130</td>\n      <td>...</td>\n      <td>105</td>\n      <td>1</td>\n      <td>2</td>\n      <td>233.25</td>\n      <td>234.50</td>\n      <td>55</td>\n      <td>63</td>\n      <td>2</td>\n      <td>4</td>\n      <td>AAPL</td>\n    </tr>\n    <tr>\n      <th>2024-10-21 13:04:17.976461017+00:00</th>\n      <td>2024-10-21T13:04:17.976627074Z</td>\n      <td>10</td>\n      <td>2</td>\n      <td>38</td>\n      <td>A</td>\n      <td>A</td>\n      <td>1</td>\n      <td>233.69</td>\n      <td>200</td>\n      <td>130</td>\n      <td>...</td>\n      <td>105</td>\n      <td>1</td>\n      <td>2</td>\n      <td>233.25</td>\n      <td>234.50</td>\n      <td>55</td>\n      <td>63</td>\n      <td>2</td>\n      <td>4</td>\n      <td>AAPL</td>\n    </tr>\n    <tr>\n      <th>2024-10-21 13:04:20.085638629+00:00</th>\n      <td>2024-10-21T13:04:20.085804687Z</td>\n      <td>10</td>\n      <td>2</td>\n      <td>38</td>\n      <td>C</td>\n      <td>B</td>\n      <td>2</td>\n      <td>233.46</td>\n      <td>200</td>\n      <td>130</td>\n      <td>...</td>\n      <td>105</td>\n      <td>2</td>\n      <td>2</td>\n      <td>233.24</td>\n      <td>234.50</td>\n      <td>1</td>\n      <td>63</td>\n      <td>1</td>\n      <td>4</td>\n      <td>AAPL</td>\n    </tr>\n    <tr>\n      <th>2024-10-21 13:04:20.085651109+00:00</th>\n      <td>2024-10-21T13:04:20.085817362Z</td>\n      <td>10</td>\n      <td>2</td>\n      <td>38</td>\n      <td>A</td>\n      <td>B</td>\n      <td>3</td>\n      <td>233.44</td>\n      <td>200</td>\n      <td>130</td>\n      <td>...</td>\n      <td>105</td>\n      <td>1</td>\n      <td>2</td>\n      <td>233.25</td>\n      <td>234.50</td>\n      <td>55</td>\n      <td>63</td>\n      <td>2</td>\n      <td>4</td>\n      <td>AAPL</td>\n    </tr>\n    <tr>\n      <th>2024-10-21 13:04:20.130842270+00:00</th>\n      <td>2024-10-21T13:04:20.131008559Z</td>\n      <td>10</td>\n      <td>2</td>\n      <td>38</td>\n      <td>A</td>\n      <td>A</td>\n      <td>0</td>\n      <td>233.56</td>\n      <td>14</td>\n      <td>130</td>\n      <td>...</td>\n      <td>500</td>\n      <td>1</td>\n      <td>1</td>\n      <td>233.25</td>\n      <td>234.43</td>\n      <td>55</td>\n      <td>105</td>\n      <td>2</td>\n      <td>2</td>\n      <td>AAPL</td>\n    </tr>\n  </tbody>\n</table>\n<p>5000 rows × 73 columns</p>\n</div>"
     },
     "execution_count": 31,
     "metadata": {},
     "output_type": "execute_result"
    }
   ],
   "source": [
    "lvl = range(10)  # depth 0 … 9\n",
    "cols = (['ts_event'] +  # timestamp of the book event\n",
    "        [f'bid_sz_{i:02d}' for i in lvl] +\n",
    "        [f'ask_sz_{i:02d}' for i in lvl] +\n",
    "        [f'bid_px_{i:02d}' for i in lvl] +\n",
    "        [f'ask_px_{i:02d}' for i in lvl] +\n",
    "        [f'bid_ct_{i:02d}' for i in lvl] +\n",
    "        [f'ask_ct_{i:02d}' for i in lvl]\n",
    "        )\n",
    "\n",
    "df.sort_values(\"ts_event\")  # VERY important\n",
    "df.reset_index(drop=True)\n",
    "\n",
    "# if ts_event is ns-precision integer → convert to pandas datetime\n",
    "df[\"ts_event\"] = pd.to_datetime(df[\"ts_event\"], unit=\"ns\")\n",
    "df.set_index(\"ts_event\")  # convenient later\n",
    "# matched_columns\n",
    "# df.columns"
   ],
   "metadata": {
    "collapsed": false,
    "ExecuteTime": {
     "end_time": "2025-05-01T02:55:21.300300494Z",
     "start_time": "2025-05-01T02:55:21.287771881Z"
    }
   },
   "id": "a4b6e9c0fd8bc103"
  },
  {
   "cell_type": "code",
   "execution_count": 32,
   "outputs": [
    {
     "data": {
      "text/plain": "      ofi_00  ofi_01  ofi_02  ofi_03  ofi_04  ofi_05  ofi_06  ofi_07  ofi_08  \\\n0        NaN     NaN     NaN     NaN     NaN     NaN     NaN     NaN     NaN   \n1        2.0     0.0     0.0     0.0     0.0     0.0     0.0     0.0     0.0   \n2        3.0     0.0     0.0     0.0     0.0     0.0     0.0     0.0     0.0   \n3        0.0     0.0   200.0     0.0     0.0     0.0     0.0     0.0     0.0   \n4        0.0     0.0  -200.0     0.0     0.0     0.0     0.0     0.0     0.0   \n...      ...     ...     ...     ...     ...     ...     ...     ...     ...   \n4995     0.0     0.0   200.0    15.0   109.0    10.0    45.0   110.0   100.0   \n4996     0.0  -200.0     0.0     0.0     0.0     0.0     0.0     0.0     0.0   \n4997     0.0     0.0  -200.0   -15.0  -109.0   -10.0   -45.0  -110.0  -100.0   \n4998     0.0     0.0     0.0   200.0   109.0    10.0    45.0   110.0   100.0   \n4999    14.0    20.0   400.0   127.0   100.0   400.0     1.0   100.0   500.0   \n\n      ofi_09  \n0        NaN  \n1        0.0  \n2        0.0  \n3        0.0  \n4        0.0  \n...      ...  \n4995    55.0  \n4996     0.0  \n4997   -55.0  \n4998    55.0  \n4999   105.0  \n\n[5000 rows x 10 columns]",
      "text/html": "<div>\n<style scoped>\n    .dataframe tbody tr th:only-of-type {\n        vertical-align: middle;\n    }\n\n    .dataframe tbody tr th {\n        vertical-align: top;\n    }\n\n    .dataframe thead th {\n        text-align: right;\n    }\n</style>\n<table border=\"1\" class=\"dataframe\">\n  <thead>\n    <tr style=\"text-align: right;\">\n      <th></th>\n      <th>ofi_00</th>\n      <th>ofi_01</th>\n      <th>ofi_02</th>\n      <th>ofi_03</th>\n      <th>ofi_04</th>\n      <th>ofi_05</th>\n      <th>ofi_06</th>\n      <th>ofi_07</th>\n      <th>ofi_08</th>\n      <th>ofi_09</th>\n    </tr>\n  </thead>\n  <tbody>\n    <tr>\n      <th>0</th>\n      <td>NaN</td>\n      <td>NaN</td>\n      <td>NaN</td>\n      <td>NaN</td>\n      <td>NaN</td>\n      <td>NaN</td>\n      <td>NaN</td>\n      <td>NaN</td>\n      <td>NaN</td>\n      <td>NaN</td>\n    </tr>\n    <tr>\n      <th>1</th>\n      <td>2.0</td>\n      <td>0.0</td>\n      <td>0.0</td>\n      <td>0.0</td>\n      <td>0.0</td>\n      <td>0.0</td>\n      <td>0.0</td>\n      <td>0.0</td>\n      <td>0.0</td>\n      <td>0.0</td>\n    </tr>\n    <tr>\n      <th>2</th>\n      <td>3.0</td>\n      <td>0.0</td>\n      <td>0.0</td>\n      <td>0.0</td>\n      <td>0.0</td>\n      <td>0.0</td>\n      <td>0.0</td>\n      <td>0.0</td>\n      <td>0.0</td>\n      <td>0.0</td>\n    </tr>\n    <tr>\n      <th>3</th>\n      <td>0.0</td>\n      <td>0.0</td>\n      <td>200.0</td>\n      <td>0.0</td>\n      <td>0.0</td>\n      <td>0.0</td>\n      <td>0.0</td>\n      <td>0.0</td>\n      <td>0.0</td>\n      <td>0.0</td>\n    </tr>\n    <tr>\n      <th>4</th>\n      <td>0.0</td>\n      <td>0.0</td>\n      <td>-200.0</td>\n      <td>0.0</td>\n      <td>0.0</td>\n      <td>0.0</td>\n      <td>0.0</td>\n      <td>0.0</td>\n      <td>0.0</td>\n      <td>0.0</td>\n    </tr>\n    <tr>\n      <th>...</th>\n      <td>...</td>\n      <td>...</td>\n      <td>...</td>\n      <td>...</td>\n      <td>...</td>\n      <td>...</td>\n      <td>...</td>\n      <td>...</td>\n      <td>...</td>\n      <td>...</td>\n    </tr>\n    <tr>\n      <th>4995</th>\n      <td>0.0</td>\n      <td>0.0</td>\n      <td>200.0</td>\n      <td>15.0</td>\n      <td>109.0</td>\n      <td>10.0</td>\n      <td>45.0</td>\n      <td>110.0</td>\n      <td>100.0</td>\n      <td>55.0</td>\n    </tr>\n    <tr>\n      <th>4996</th>\n      <td>0.0</td>\n      <td>-200.0</td>\n      <td>0.0</td>\n      <td>0.0</td>\n      <td>0.0</td>\n      <td>0.0</td>\n      <td>0.0</td>\n      <td>0.0</td>\n      <td>0.0</td>\n      <td>0.0</td>\n    </tr>\n    <tr>\n      <th>4997</th>\n      <td>0.0</td>\n      <td>0.0</td>\n      <td>-200.0</td>\n      <td>-15.0</td>\n      <td>-109.0</td>\n      <td>-10.0</td>\n      <td>-45.0</td>\n      <td>-110.0</td>\n      <td>-100.0</td>\n      <td>-55.0</td>\n    </tr>\n    <tr>\n      <th>4998</th>\n      <td>0.0</td>\n      <td>0.0</td>\n      <td>0.0</td>\n      <td>200.0</td>\n      <td>109.0</td>\n      <td>10.0</td>\n      <td>45.0</td>\n      <td>110.0</td>\n      <td>100.0</td>\n      <td>55.0</td>\n    </tr>\n    <tr>\n      <th>4999</th>\n      <td>14.0</td>\n      <td>20.0</td>\n      <td>400.0</td>\n      <td>127.0</td>\n      <td>100.0</td>\n      <td>400.0</td>\n      <td>1.0</td>\n      <td>100.0</td>\n      <td>500.0</td>\n      <td>105.0</td>\n    </tr>\n  </tbody>\n</table>\n<p>5000 rows × 10 columns</p>\n</div>"
     },
     "execution_count": 32,
     "metadata": {},
     "output_type": "execute_result"
    }
   ],
   "source": [
    "def order_flow_level(side, m):\n",
    "    \"\"\"Return OF at level m for either 'bid' or 'ask' side.\"\"\"\n",
    "    p = df[f\"{side}_px_{m:02d}\"]\n",
    "    q = df[f\"{side}_sz_{m:02d}\"]\n",
    "    dp = p.diff()\n",
    "    dq = q.diff()\n",
    "\n",
    "    if side == \"bid\":\n",
    "        of = np.where(dp > 0, q,  # price improved\n",
    "                      np.where(dp == 0, dq,  # same price, size change\n",
    "                               -q.shift()))  # price deteriorated\n",
    "    else:  # 'ask'\n",
    "        of = np.where(dp < 0, -q,  # price improved (ask ↓)\n",
    "                      np.where(dp == 0, dq,\n",
    "                               q.shift()))  # price deteriorated (ask ↑)\n",
    "    return pd.Series(of, index=df.index)\n",
    "\n",
    "\n",
    "for m in lvl:\n",
    "    df[f\"of_bid_{m:02d}\"] = order_flow_level(\"bid\", m)\n",
    "    df[f\"of_ask_{m:02d}\"] = order_flow_level(\"ask\", m)\n",
    "    df[f\"ofi_{m:02d}\"] = df[f\"of_bid_{m:02d}\"] - df[f\"of_ask_{m:02d}\"]\n",
    "\n",
    "# Best Level OFI\n",
    "df[\"ofi_best\"] = df[\"ofi_00\"]\n",
    "# Multi-Level OFI for each row\n",
    "df[[f\"ofi_{m:02d}\" for m in lvl]]"
   ],
   "metadata": {
    "collapsed": false,
    "ExecuteTime": {
     "end_time": "2025-05-01T02:55:27.820694710Z",
     "start_time": "2025-05-01T02:55:27.797751015Z"
    }
   },
   "id": "4707b562de700ea4"
  },
  {
   "cell_type": "code",
   "execution_count": 101,
   "outputs": [],
   "source": [],
   "metadata": {
    "collapsed": false,
    "ExecuteTime": {
     "end_time": "2025-05-01T01:47:33.743093135Z",
     "start_time": "2025-05-01T01:47:33.700280091Z"
    }
   },
   "id": "657928e9cf68428c"
  },
  {
   "cell_type": "code",
   "execution_count": 134,
   "outputs": [],
   "source": [],
   "metadata": {
    "collapsed": false,
    "ExecuteTime": {
     "end_time": "2025-05-01T02:25:00.512880696Z",
     "start_time": "2025-05-01T02:25:00.504696140Z"
    }
   },
   "id": "e88ec663b1b26f12"
  },
  {
   "cell_type": "code",
   "execution_count": 64,
   "outputs": [],
   "source": [
    "# ---------------  accumulate over a fixed horizon  ------------\n",
    "# multi-level OFI over 1 minute\n",
    "\n",
    "h = \"1min\"  # \"1min\" as in the paper\n",
    "ofi_cols = [f\"ofi_{m:02d}\" for m in lvl]\n",
    "\n",
    "# Eq. 2 in the paper\n",
    "ofi_h = (df\n",
    "         .set_index(\"ts_event\")\n",
    "         [ofi_cols]\n",
    "         .resample(h).sum()\n",
    "         .dropna())\n",
    "\n",
    "# Calculate Q in Eq. 3\n",
    "ofi_depth_cols = [f\"depth_{m:02d}\" for m in lvl]\n",
    "for m in lvl:\n",
    "    df[f'depth_{m:02d}'] = df[f\"bid_sz_{m:02d}\"] + df[f\"ask_sz_{m:02d}\"]\n",
    "\n",
    "avg_depth = df.set_index(\"ts_event\")[ofi_depth_cols].resample(h).mean().dropna().mean(axis=1)\n",
    "\n",
    "# Normalize Multi-Level OFI\n",
    "normalized_ofi_h = ofi_h.div(avg_depth/2, axis=0)"
   ],
   "metadata": {
    "collapsed": false,
    "ExecuteTime": {
     "end_time": "2025-05-01T03:18:12.382023051Z",
     "start_time": "2025-05-01T03:18:12.356647388Z"
    }
   },
   "id": "7e3eb6e4c9ab72cb"
  },
  {
   "cell_type": "code",
   "execution_count": 135,
   "outputs": [
    {
     "data": {
      "text/plain": "<Figure size 700x600 with 2 Axes>",
      "image/png": "[encoded data removed]"
     },
     "metadata": {},
     "output_type": "display_data"
    }
   ],
   "source": [
    "import pandas as pd\n",
    "import matplotlib.pyplot as plt\n",
    "\n",
    "# --- compute correlation matrix ----------------------------------------\n",
    "corr = normalized_ofi_h[ofi_cols].corr()\n",
    "\n",
    "# --- plot with matplotlib ----------------------------------------------\n",
    "fig, ax = plt.subplots(figsize=(7, 6))\n",
    "im = ax.imshow(corr, cmap='coolwarm')\n",
    "ax.set_xticks(lvl)\n",
    "ax.set_yticks(lvl)\n",
    "ax.set_xticklabels(range(1, 11))\n",
    "ax.set_yticklabels(range(1, 11))\n",
    "ax.set_title(\"Correlation Matrix of Multi-Level OFI\")\n",
    "fig.colorbar(im, ax=ax, shrink=0.8)\n",
    "plt.tight_layout()\n",
    "plt.savefig('corr.png')\n",
    "plt.show()\n"
   ],
   "metadata": {
    "collapsed": false,
    "ExecuteTime": {
     "end_time": "2025-05-01T03:21:06.695894686Z",
     "start_time": "2025-05-01T03:21:06.568871904Z"
    }
   },
   "id": "3394c1ec46fa0ab8"
  },
  {
   "cell_type": "code",
   "execution_count": 138,
   "outputs": [
    {
     "name": "stdout",
     "output_type": "stream",
     "text": [
      "[54.52599255]\n",
      "[0.37318059]\n",
      "[[-0.18832061  0.23279422  0.42221487  0.52610622  0.5183732   0.27068501\n",
      "   0.20883274  0.15699236  0.16879181  0.12868374]]\n"
     ]
    }
   ],
   "source": [
    "from sklearn.decomposition import PCA\n",
    "\n",
    "pca = PCA(n_components=1)\n",
    "normalized_ofi_h[\"ofi_integrated\"] = pca.fit_transform(normalized_ofi_h[ofi_cols])[:, 0]\n",
    "print(pca.explained_variance_)\n",
    "print(pca.explained_variance_ratio_)\n",
    "print(pca.components_)\n"
   ],
   "metadata": {
    "collapsed": false,
    "ExecuteTime": {
     "end_time": "2025-05-01T03:22:24.428325568Z",
     "start_time": "2025-05-01T03:22:24.417582492Z"
    }
   },
   "id": "6a0778ae9bad3958"
  }
 ],
 "metadata": {
  "kernelspec": {
   "display_name": "Python 3",
   "language": "python",
   "name": "python3"
  },
  "language_info": {
   "codemirror_mode": {
    "name": "ipython",
    "version": 2
   },
   "file_extension": ".py",
   "mimetype": "text/x-python",
   "name": "python",
   "nbconvert_exporter": "python",
   "pygments_lexer": "ipython2",
   "version": "2.7.6"
  }
 },
 "nbformat": 4,
 "nbformat_minor": 5
}
